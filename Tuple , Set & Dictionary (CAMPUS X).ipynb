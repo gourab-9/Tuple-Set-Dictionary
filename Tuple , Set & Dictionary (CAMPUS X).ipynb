{
 "cells": [
  {
   "cell_type": "code",
   "execution_count": 1,
   "id": "38c4d9e5",
   "metadata": {},
   "outputs": [
    {
     "name": "stdout",
     "output_type": "stream",
     "text": [
      "()\n"
     ]
    }
   ],
   "source": [
    "t1 = ()\n",
    "print(t1)"
   ]
  },
  {
   "cell_type": "code",
   "execution_count": 2,
   "id": "9d27bb2c",
   "metadata": {},
   "outputs": [
    {
     "name": "stdout",
     "output_type": "stream",
     "text": [
      "2\n",
      "<class 'int'>\n"
     ]
    }
   ],
   "source": [
    "t2 = (2)\n",
    "print(t2)\n",
    "print(type(t2))"
   ]
  },
  {
   "cell_type": "code",
   "execution_count": 3,
   "id": "c54daf2b",
   "metadata": {},
   "outputs": [
    {
     "name": "stdout",
     "output_type": "stream",
     "text": [
      "hello\n",
      "<class 'str'>\n"
     ]
    }
   ],
   "source": [
    "t3 = ('hello')\n",
    "print(t3)\n",
    "print(type(t3))"
   ]
  },
  {
   "cell_type": "code",
   "execution_count": 4,
   "id": "10e3b10d",
   "metadata": {},
   "outputs": [
    {
     "name": "stdout",
     "output_type": "stream",
     "text": [
      "(2,)\n",
      "<class 'tuple'>\n"
     ]
    }
   ],
   "source": [
    "t4 = (2,)\n",
    "print(t4)\n",
    "print(type(t4))"
   ]
  },
  {
   "cell_type": "code",
   "execution_count": 5,
   "id": "2b10e6fd",
   "metadata": {},
   "outputs": [
    {
     "name": "stdout",
     "output_type": "stream",
     "text": [
      "('hello',)\n",
      "<class 'tuple'>\n"
     ]
    }
   ],
   "source": [
    "t5 = ('hello',)\n",
    "print(t5)\n",
    "print(type(t5))                                          "
   ]
  },
  {
   "cell_type": "code",
   "execution_count": 6,
   "id": "c008a5e8",
   "metadata": {},
   "outputs": [
    {
     "name": "stdout",
     "output_type": "stream",
     "text": [
      "(1, 2.3, True, [1, 2, 3])\n",
      "<class 'tuple'>\n"
     ]
    }
   ],
   "source": [
    "t6 = (1,2.3,True,[1,2,3])\n",
    "print(t6)\n",
    "print(type(t6))"
   ]
  },
  {
   "cell_type": "code",
   "execution_count": 7,
   "id": "2a5fce0b",
   "metadata": {},
   "outputs": [
    {
     "name": "stdout",
     "output_type": "stream",
     "text": [
      "(1, 2, 3, 4, (5, 6))\n"
     ]
    }
   ],
   "source": [
    "t7 = (1,2,3,4,(5,6))\n",
    "print(t7)"
   ]
  },
  {
   "cell_type": "code",
   "execution_count": 8,
   "id": "c95a141d",
   "metadata": {},
   "outputs": [
    {
     "name": "stdout",
     "output_type": "stream",
     "text": [
      "('H', 'e', 'l', 'l', 'o')\n"
     ]
    }
   ],
   "source": [
    "t8 = tuple('Hello')\n",
    "print(t8)"
   ]
  },
  {
   "cell_type": "code",
   "execution_count": 9,
   "id": "d43af0a3",
   "metadata": {},
   "outputs": [
    {
     "name": "stdout",
     "output_type": "stream",
     "text": [
      "(5, 6)\n"
     ]
    }
   ],
   "source": [
    "print(t7[4])"
   ]
  },
  {
   "cell_type": "code",
   "execution_count": 10,
   "id": "47362d94",
   "metadata": {},
   "outputs": [
    {
     "name": "stdout",
     "output_type": "stream",
     "text": [
      "5\n"
     ]
    }
   ],
   "source": [
    "print(t7[-1][0])"
   ]
  },
  {
   "cell_type": "code",
   "execution_count": 11,
   "id": "f4bd2e96",
   "metadata": {},
   "outputs": [
    {
     "ename": "SyntaxError",
     "evalue": "expression cannot contain assignment, perhaps you meant \"==\"? (1351618922.py, line 1)",
     "output_type": "error",
     "traceback": [
      "\u001b[1;36m  Input \u001b[1;32mIn [11]\u001b[1;36m\u001b[0m\n\u001b[1;33m    print(t7[0]= 12)\u001b[0m\n\u001b[1;37m          ^\u001b[0m\n\u001b[1;31mSyntaxError\u001b[0m\u001b[1;31m:\u001b[0m expression cannot contain assignment, perhaps you meant \"==\"?\n"
     ]
    }
   ],
   "source": [
    "print(t7[0]= 12)"
   ]
  },
  {
   "cell_type": "code",
   "execution_count": 12,
   "id": "4359f90f",
   "metadata": {},
   "outputs": [
    {
     "name": "stdout",
     "output_type": "stream",
     "text": [
      "(1, 2, 3, 4, (5, 6))\n"
     ]
    },
    {
     "ename": "NameError",
     "evalue": "name 't7' is not defined",
     "output_type": "error",
     "traceback": [
      "\u001b[1;31m---------------------------------------------------------------------------\u001b[0m",
      "\u001b[1;31mNameError\u001b[0m                                 Traceback (most recent call last)",
      "Input \u001b[1;32mIn [12]\u001b[0m, in \u001b[0;36m<cell line: 3>\u001b[1;34m()\u001b[0m\n\u001b[0;32m      1\u001b[0m \u001b[38;5;28mprint\u001b[39m(t7)\n\u001b[0;32m      2\u001b[0m \u001b[38;5;28;01mdel\u001b[39;00m(t7)\n\u001b[1;32m----> 3\u001b[0m \u001b[38;5;28mprint\u001b[39m(\u001b[43mt7\u001b[49m)\n",
      "\u001b[1;31mNameError\u001b[0m: name 't7' is not defined"
     ]
    }
   ],
   "source": [
    "print(t7)\n",
    "del(t7)\n",
    "print(t7)"
   ]
  },
  {
   "cell_type": "code",
   "execution_count": 13,
   "id": "6e49ea2c",
   "metadata": {},
   "outputs": [
    {
     "name": "stdout",
     "output_type": "stream",
     "text": [
      "(7, 6, 5, 4)\n"
     ]
    }
   ],
   "source": [
    "t9 = (1,2,3,4,5,6,7)\n",
    "print(t9[-1:-5:-1])"
   ]
  },
  {
   "cell_type": "code",
   "execution_count": 14,
   "id": "490fa930",
   "metadata": {},
   "outputs": [
    {
     "name": "stdout",
     "output_type": "stream",
     "text": [
      "(1, 2, 3, 4, 5, 6, 7, 1, 2, 3, 4, 5, 6, 7, 1, 2, 3, 4, 5, 6, 7)\n"
     ]
    }
   ],
   "source": [
    "print(t9*3)"
   ]
  },
  {
   "cell_type": "code",
   "execution_count": 15,
   "id": "07c0c7b1",
   "metadata": {},
   "outputs": [
    {
     "data": {
      "text/plain": [
       "True"
      ]
     },
     "execution_count": 15,
     "metadata": {},
     "output_type": "execute_result"
    }
   ],
   "source": [
    "7 in t9"
   ]
  },
  {
   "cell_type": "code",
   "execution_count": 16,
   "id": "52d80b0b",
   "metadata": {},
   "outputs": [
    {
     "data": {
      "text/plain": [
       "True"
      ]
     },
     "execution_count": 16,
     "metadata": {},
     "output_type": "execute_result"
    }
   ],
   "source": [
    "9 not in  t9"
   ]
  },
  {
   "cell_type": "code",
   "execution_count": 17,
   "id": "7bf97aae",
   "metadata": {},
   "outputs": [
    {
     "name": "stdout",
     "output_type": "stream",
     "text": [
      "1\n",
      "2\n",
      "3\n",
      "4\n",
      "5\n",
      "6\n",
      "7\n"
     ]
    }
   ],
   "source": [
    "for i in t9:\n",
    "    print(i)"
   ]
  },
  {
   "cell_type": "code",
   "execution_count": 18,
   "id": "8ce266b1",
   "metadata": {},
   "outputs": [
    {
     "name": "stdout",
     "output_type": "stream",
     "text": [
      "28\n",
      "(1, 2, 3, 4, 5, 6, 7)\n"
     ]
    }
   ],
   "source": [
    "print(sum(t9))\n",
    "print(t9)"
   ]
  },
  {
   "cell_type": "code",
   "execution_count": 19,
   "id": "3b6a8337",
   "metadata": {},
   "outputs": [
    {
     "name": "stdout",
     "output_type": "stream",
     "text": [
      "1\n",
      "7\n",
      "[7, 6, 5, 4, 3, 2, 1]\n"
     ]
    }
   ],
   "source": [
    "print(min(t9))\n",
    "print(max(t9))\n",
    "print(sorted(t9,reverse = True))"
   ]
  },
  {
   "cell_type": "code",
   "execution_count": 20,
   "id": "2f50108e",
   "metadata": {},
   "outputs": [
    {
     "data": {
      "text/plain": [
       "1"
      ]
     },
     "execution_count": 20,
     "metadata": {},
     "output_type": "execute_result"
    }
   ],
   "source": [
    "t9.count(7)"
   ]
  },
  {
   "cell_type": "code",
   "execution_count": 21,
   "id": "72f2f736",
   "metadata": {},
   "outputs": [
    {
     "data": {
      "text/plain": [
       "6"
      ]
     },
     "execution_count": 21,
     "metadata": {},
     "output_type": "execute_result"
    }
   ],
   "source": [
    "t9.index(7)"
   ]
  },
  {
   "cell_type": "code",
   "execution_count": 22,
   "id": "032c89a1",
   "metadata": {},
   "outputs": [],
   "source": [
    "# Tuple unpacking\n",
    "\n",
    "a,b,c = 1,2,3"
   ]
  },
  {
   "cell_type": "code",
   "execution_count": 23,
   "id": "669d7fd2",
   "metadata": {},
   "outputs": [
    {
     "name": "stdout",
     "output_type": "stream",
     "text": [
      "1\n",
      "2\n",
      "3\n"
     ]
    }
   ],
   "source": [
    "print(a)\n",
    "print(b)\n",
    "print(c)"
   ]
  },
  {
   "cell_type": "code",
   "execution_count": 24,
   "id": "af325cf9",
   "metadata": {},
   "outputs": [],
   "source": [
    "a = 1\n",
    "b = 2\n",
    "a,b = b,a"
   ]
  },
  {
   "cell_type": "code",
   "execution_count": 25,
   "id": "c2825c31",
   "metadata": {},
   "outputs": [
    {
     "name": "stdout",
     "output_type": "stream",
     "text": [
      "2\n",
      "1\n"
     ]
    }
   ],
   "source": [
    "print(a)\n",
    "print(b)"
   ]
  },
  {
   "cell_type": "code",
   "execution_count": 26,
   "id": "1cfc4b5a",
   "metadata": {},
   "outputs": [
    {
     "name": "stdout",
     "output_type": "stream",
     "text": [
      "1 2\n",
      "[3, 4, 5, 6, 7, 8, 9]\n"
     ]
    }
   ],
   "source": [
    "a,b,*others = (1,2,3,4,5,6,7,8,9)\n",
    "print(a,b)\n",
    "print(others)"
   ]
  },
  {
   "cell_type": "code",
   "execution_count": 27,
   "id": "912675af",
   "metadata": {},
   "outputs": [
    {
     "name": "stdout",
     "output_type": "stream",
     "text": [
      "((1, 5), (2, 6), (3, 7), (4, 8))\n"
     ]
    }
   ],
   "source": [
    "a = (1,2,3,4)\n",
    "b = (5,6,7,8)\n",
    "print(tuple(zip(a,b)))"
   ]
  },
  {
   "cell_type": "code",
   "execution_count": 28,
   "id": "eadafaef",
   "metadata": {},
   "outputs": [
    {
     "name": "stdout",
     "output_type": "stream",
     "text": [
      "<class 'dict'>\n"
     ]
    }
   ],
   "source": [
    "s= {}\n",
    "print(type(s))"
   ]
  },
  {
   "cell_type": "code",
   "execution_count": 29,
   "id": "c1047e8f",
   "metadata": {},
   "outputs": [
    {
     "name": "stdout",
     "output_type": "stream",
     "text": [
      "<class 'set'>\n"
     ]
    }
   ],
   "source": [
    "s1= set()\n",
    "print(type(s1))"
   ]
  },
  {
   "cell_type": "code",
   "execution_count": 30,
   "id": "42e48f16",
   "metadata": {},
   "outputs": [
    {
     "name": "stdout",
     "output_type": "stream",
     "text": [
      "{1, 2, 3, 4, 5}\n"
     ]
    }
   ],
   "source": [
    "s2 = {1,2,3,4,5}\n",
    "print(s2)"
   ]
  },
  {
   "cell_type": "code",
   "execution_count": 31,
   "id": "a276b0cf",
   "metadata": {},
   "outputs": [
    {
     "ename": "TypeError",
     "evalue": "unhashable type: 'set'",
     "output_type": "error",
     "traceback": [
      "\u001b[1;31m---------------------------------------------------------------------------\u001b[0m",
      "\u001b[1;31mTypeError\u001b[0m                                 Traceback (most recent call last)",
      "Input \u001b[1;32mIn [31]\u001b[0m, in \u001b[0;36m<cell line: 1>\u001b[1;34m()\u001b[0m\n\u001b[1;32m----> 1\u001b[0m s3 \u001b[38;5;241m=\u001b[39m {\u001b[38;5;241m1\u001b[39m,\u001b[38;5;241m2\u001b[39m,\u001b[38;5;241m3\u001b[39m,\u001b[38;5;241m4\u001b[39m,\u001b[38;5;241m5\u001b[39m,{\u001b[38;5;241m6\u001b[39m,\u001b[38;5;241m7\u001b[39m,\u001b[38;5;241m8\u001b[39m}}\n",
      "\u001b[1;31mTypeError\u001b[0m: unhashable type: 'set'"
     ]
    }
   ],
   "source": [
    "s3 = {1,2,3,4,5,{6,7,8}}"
   ]
  },
  {
   "cell_type": "code",
   "execution_count": 32,
   "id": "250a3be9",
   "metadata": {},
   "outputs": [
    {
     "name": "stdout",
     "output_type": "stream",
     "text": [
      "{True, 2, (3, 'hello')}\n"
     ]
    }
   ],
   "source": [
    "s4 = {2,(3,'hello'),True}\n",
    "print(s4)"
   ]
  },
  {
   "cell_type": "code",
   "execution_count": 33,
   "id": "32d41d8a",
   "metadata": {},
   "outputs": [
    {
     "name": "stdout",
     "output_type": "stream",
     "text": [
      "{1, 2, 3, 4}\n",
      "<class 'set'>\n"
     ]
    }
   ],
   "source": [
    "s5 = set([1,2,3,4])\n",
    "print(s5)\n",
    "print(type(s5))"
   ]
  },
  {
   "cell_type": "code",
   "execution_count": 34,
   "id": "440ea4c6",
   "metadata": {},
   "outputs": [
    {
     "name": "stdout",
     "output_type": "stream",
     "text": [
      "{0, 1, 2, 3, 4, 5, 6, 7, 8, 9}\n"
     ]
    }
   ],
   "source": [
    "s6 = {1,2,2,3,3,3,4,4,4,5,5,6,7,7,8,8,9,9,9,0,0,0,}\n",
    "print(s6)"
   ]
  },
  {
   "cell_type": "code",
   "execution_count": 35,
   "id": "d1abc2b6",
   "metadata": {},
   "outputs": [
    {
     "ename": "TypeError",
     "evalue": "unhashable type: 'list'",
     "output_type": "error",
     "traceback": [
      "\u001b[1;31m---------------------------------------------------------------------------\u001b[0m",
      "\u001b[1;31mTypeError\u001b[0m                                 Traceback (most recent call last)",
      "Input \u001b[1;32mIn [35]\u001b[0m, in \u001b[0;36m<cell line: 1>\u001b[1;34m()\u001b[0m\n\u001b[1;32m----> 1\u001b[0m s7 \u001b[38;5;241m=\u001b[39m {\u001b[38;5;241m1\u001b[39m,\u001b[38;5;241m2\u001b[39m,[\u001b[38;5;241m3\u001b[39m,\u001b[38;5;241m4\u001b[39m]}\n\u001b[0;32m      2\u001b[0m \u001b[38;5;28mprint\u001b[39m(s7)\n",
      "\u001b[1;31mTypeError\u001b[0m: unhashable type: 'list'"
     ]
    }
   ],
   "source": [
    "s7 = {1,2,[3,4]}\n",
    "print(s7)"
   ]
  },
  {
   "cell_type": "code",
   "execution_count": 36,
   "id": "b482f3b1",
   "metadata": {},
   "outputs": [
    {
     "name": "stdout",
     "output_type": "stream",
     "text": [
      "True\n"
     ]
    }
   ],
   "source": [
    "s8 = {1,2,3,4,5,6,7}\n",
    "s9 = {3,4,6,1,7,2,5}\n",
    "print(s8==s9)"
   ]
  },
  {
   "cell_type": "code",
   "execution_count": 37,
   "id": "6b2dcfec",
   "metadata": {},
   "outputs": [
    {
     "name": "stdout",
     "output_type": "stream",
     "text": [
      "{1, 2, 3, 4, 5}\n"
     ]
    }
   ],
   "source": [
    "s9 = {1,2,3,4}\n",
    "s9.add(5)\n",
    "print(s9)"
   ]
  },
  {
   "cell_type": "code",
   "execution_count": 38,
   "id": "64fe4acc",
   "metadata": {},
   "outputs": [
    {
     "name": "stdout",
     "output_type": "stream",
     "text": [
      "{1, 2, 3, 4, 5, 6, 7, 8, 9}\n"
     ]
    }
   ],
   "source": [
    "s10 = {1, 2, 3, 4, 5}\n",
    "s10.update([6,7,8,9])\n",
    "print(s10)"
   ]
  },
  {
   "cell_type": "code",
   "execution_count": 39,
   "id": "1cb0d6e6",
   "metadata": {},
   "outputs": [
    {
     "name": "stdout",
     "output_type": "stream",
     "text": [
      "{1, 2, 3, 4, 5, 6, 7, 8, 9}\n"
     ]
    },
    {
     "ename": "NameError",
     "evalue": "name 's11' is not defined",
     "output_type": "error",
     "traceback": [
      "\u001b[1;31m---------------------------------------------------------------------------\u001b[0m",
      "\u001b[1;31mNameError\u001b[0m                                 Traceback (most recent call last)",
      "Input \u001b[1;32mIn [39]\u001b[0m, in \u001b[0;36m<cell line: 4>\u001b[1;34m()\u001b[0m\n\u001b[0;32m      2\u001b[0m \u001b[38;5;28mprint\u001b[39m(s11)\n\u001b[0;32m      3\u001b[0m \u001b[38;5;28;01mdel\u001b[39;00m(s11)\n\u001b[1;32m----> 4\u001b[0m \u001b[38;5;28mprint\u001b[39m(\u001b[43ms11\u001b[49m)\n",
      "\u001b[1;31mNameError\u001b[0m: name 's11' is not defined"
     ]
    }
   ],
   "source": [
    "s11 = {1, 2, 3, 4, 5, 6, 7, 8, 9}\n",
    "print(s11)\n",
    "del(s11)\n",
    "print(s11)"
   ]
  },
  {
   "cell_type": "code",
   "execution_count": 40,
   "id": "48b977d7",
   "metadata": {},
   "outputs": [
    {
     "name": "stdout",
     "output_type": "stream",
     "text": [
      "{1, 2, 4, 5, 6, 7, 8, 9}\n"
     ]
    }
   ],
   "source": [
    "s12 = {1, 2, 3, 4, 5, 6, 7, 8, 9}\n",
    "s12.discard(3)  # Discard will not through an error even number not exist but remove will.\n",
    "print(s12)"
   ]
  },
  {
   "cell_type": "code",
   "execution_count": 41,
   "id": "e1a63fd8",
   "metadata": {},
   "outputs": [
    {
     "name": "stdout",
     "output_type": "stream",
     "text": [
      "None\n"
     ]
    },
    {
     "ename": "KeyError",
     "evalue": "89",
     "output_type": "error",
     "traceback": [
      "\u001b[1;31m---------------------------------------------------------------------------\u001b[0m",
      "\u001b[1;31mKeyError\u001b[0m                                  Traceback (most recent call last)",
      "Input \u001b[1;32mIn [41]\u001b[0m, in \u001b[0;36m<cell line: 4>\u001b[1;34m()\u001b[0m\n\u001b[0;32m      1\u001b[0m s13 \u001b[38;5;241m=\u001b[39m {\u001b[38;5;241m1\u001b[39m, \u001b[38;5;241m2\u001b[39m, \u001b[38;5;241m4\u001b[39m, \u001b[38;5;241m5\u001b[39m, \u001b[38;5;241m6\u001b[39m, \u001b[38;5;241m7\u001b[39m, \u001b[38;5;241m8\u001b[39m, \u001b[38;5;241m9\u001b[39m}\n\u001b[0;32m      3\u001b[0m \u001b[38;5;28mprint\u001b[39m(s13\u001b[38;5;241m.\u001b[39mdiscard(\u001b[38;5;241m89\u001b[39m))\n\u001b[1;32m----> 4\u001b[0m \u001b[38;5;28mprint\u001b[39m(\u001b[43ms13\u001b[49m\u001b[38;5;241;43m.\u001b[39;49m\u001b[43mremove\u001b[49m\u001b[43m(\u001b[49m\u001b[38;5;241;43m89\u001b[39;49m\u001b[43m)\u001b[49m)\n",
      "\u001b[1;31mKeyError\u001b[0m: 89"
     ]
    }
   ],
   "source": [
    "s13 = {1, 2, 4, 5, 6, 7, 8, 9}\n",
    "\n",
    "print(s13.discard(89))\n",
    "print(s13.remove(89))"
   ]
  },
  {
   "cell_type": "code",
   "execution_count": 42,
   "id": "27edd26e",
   "metadata": {},
   "outputs": [
    {
     "data": {
      "text/plain": [
       "1"
      ]
     },
     "execution_count": 42,
     "metadata": {},
     "output_type": "execute_result"
    }
   ],
   "source": [
    "s13 = {1, 2, 4, 5, 6, 7, 8, 9}\n",
    "s13.pop()"
   ]
  },
  {
   "cell_type": "code",
   "execution_count": 43,
   "id": "3b998b3e",
   "metadata": {},
   "outputs": [
    {
     "name": "stdout",
     "output_type": "stream",
     "text": [
      "set()\n"
     ]
    }
   ],
   "source": [
    "s13.clear()\n",
    "print(s13)"
   ]
  },
  {
   "cell_type": "code",
   "execution_count": 44,
   "id": "92c70c26",
   "metadata": {},
   "outputs": [
    {
     "data": {
      "text/plain": [
       "{1, 2, 3, 4, 5, 6, 7, 8, 9, 10}"
      ]
     },
     "execution_count": 44,
     "metadata": {},
     "output_type": "execute_result"
    }
   ],
   "source": [
    "# Union (|)\n",
    "\n",
    "s14 = {1,2,3,4,5,6}\n",
    "s15 = {5,6,7,8,9,10}\n",
    "\n",
    "s14|s15"
   ]
  },
  {
   "cell_type": "code",
   "execution_count": 45,
   "id": "12e6bd3b",
   "metadata": {},
   "outputs": [
    {
     "data": {
      "text/plain": [
       "{5, 6}"
      ]
     },
     "execution_count": 45,
     "metadata": {},
     "output_type": "execute_result"
    }
   ],
   "source": [
    "# Intersections (&)\n",
    "\n",
    "s16 = {1,2,3,4,5,6}\n",
    "s17 = {5,6,7,8,9,10}\n",
    "\n",
    "s16 & s17"
   ]
  },
  {
   "cell_type": "code",
   "execution_count": 46,
   "id": "9254c349",
   "metadata": {},
   "outputs": [
    {
     "name": "stdout",
     "output_type": "stream",
     "text": [
      "{1, 2, 3, 4}\n",
      "{8, 9, 10, 7}\n"
     ]
    }
   ],
   "source": [
    "# Difference(-)\n",
    "s18 = {1,2,3,4,5,6}\n",
    "s19 = {5,6,7,8,9,10}\n",
    "print(s18-s19)\n",
    "print(s19-s18)"
   ]
  },
  {
   "cell_type": "code",
   "execution_count": 47,
   "id": "6b6e5745",
   "metadata": {},
   "outputs": [
    {
     "data": {
      "text/plain": [
       "{1, 2, 3, 4, 7, 8, 9, 10}"
      ]
     },
     "execution_count": 47,
     "metadata": {},
     "output_type": "execute_result"
    }
   ],
   "source": [
    "# Symmetric diff (^)   # print all items except common\n",
    "s20 = {1,2,3,4,5,6}\n",
    "s21 = {5,6,7,8,9,10}\n",
    "s20^s21"
   ]
  },
  {
   "cell_type": "code",
   "execution_count": 48,
   "id": "c9e93a63",
   "metadata": {},
   "outputs": [
    {
     "data": {
      "text/plain": [
       "True"
      ]
     },
     "execution_count": 48,
     "metadata": {},
     "output_type": "execute_result"
    }
   ],
   "source": [
    "1 in s20"
   ]
  },
  {
   "cell_type": "code",
   "execution_count": 49,
   "id": "03a6ad14",
   "metadata": {},
   "outputs": [
    {
     "data": {
      "text/plain": [
       "True"
      ]
     },
     "execution_count": 49,
     "metadata": {},
     "output_type": "execute_result"
    }
   ],
   "source": [
    "3 not in s21"
   ]
  },
  {
   "cell_type": "code",
   "execution_count": 50,
   "id": "544a7c85",
   "metadata": {},
   "outputs": [
    {
     "name": "stdout",
     "output_type": "stream",
     "text": [
      "5\n",
      "6\n",
      "7\n",
      "8\n",
      "9\n",
      "10\n"
     ]
    }
   ],
   "source": [
    "for i in s21:\n",
    "    print(i)"
   ]
  },
  {
   "cell_type": "code",
   "execution_count": 51,
   "id": "19b0efa0",
   "metadata": {},
   "outputs": [
    {
     "name": "stdout",
     "output_type": "stream",
     "text": [
      "9\n",
      "45\n",
      "1\n",
      "9\n",
      "[9, 8, 7, 6, 5, 4, 3, 2, 1]\n"
     ]
    }
   ],
   "source": [
    "s22 = {3,4,5,1,2,7,6,9,8}\n",
    "print(len(s22))\n",
    "print(sum(s22))\n",
    "print(min(s22))\n",
    "print(max(s22))\n",
    "print(sorted(s22, reverse = True))"
   ]
  },
  {
   "cell_type": "code",
   "execution_count": 52,
   "id": "9a59832a",
   "metadata": {},
   "outputs": [
    {
     "name": "stdout",
     "output_type": "stream",
     "text": [
      "{1, 2, 3, 4, 5, 6, 7, 8, 9}\n",
      "{1, 2, 3, 4, 5, 6, 7, 8, 9}\n",
      "{1, 2, 3, 4, 5, 6, 7, 8, 9}\n",
      "{4, 5, 6, 7, 8, 9}\n",
      "{1, 2, 3, 4, 5, 6, 7, 8, 9}\n",
      "{1, 2, 3, 4, 5, 6, 7, 8, 9}\n"
     ]
    }
   ],
   "source": [
    "s23 = {1,2,3,4,5,6}\n",
    "s24 = {4,5,6,7,8,9}\n",
    "\n",
    "print(s23|s24)\n",
    "print(s23.union(s24))\n",
    "\n",
    "s23.update(s24)\n",
    "print(s23)\n",
    "print(s24)\n",
    "s24.update(s23)\n",
    "print(s23)\n",
    "print(s24)"
   ]
  },
  {
   "cell_type": "code",
   "execution_count": 53,
   "id": "d315e7e0",
   "metadata": {},
   "outputs": [
    {
     "name": "stdout",
     "output_type": "stream",
     "text": [
      "{4, 5, 6}\n",
      "{4, 5, 6, 7, 8, 9}\n"
     ]
    }
   ],
   "source": [
    "s25 = {1,2,3,4,5,6}\n",
    "s26 = {4,5,6,7,8,9}\n",
    "\n",
    "\n",
    "s25.intersection(s26)\n",
    "\n",
    "s25.intersection_update(s26)\n",
    "print(s25)\n",
    "print(s26)"
   ]
  },
  {
   "cell_type": "code",
   "execution_count": 54,
   "id": "11ae0fcb",
   "metadata": {},
   "outputs": [
    {
     "name": "stdout",
     "output_type": "stream",
     "text": [
      "{1, 2, 3}\n",
      "{4, 5, 6, 7, 8, 9}\n"
     ]
    }
   ],
   "source": [
    "s27 = {1,2,3,4,5,6}\n",
    "s28 = {4,5,6,7,8,9}\n",
    "\n",
    "\n",
    "s27.difference(s28)\n",
    "\n",
    "s27.difference_update(s28)\n",
    "print(s27)\n",
    "print(s28)"
   ]
  },
  {
   "cell_type": "code",
   "execution_count": 55,
   "id": "f1fe17d2",
   "metadata": {},
   "outputs": [
    {
     "name": "stdout",
     "output_type": "stream",
     "text": [
      "{1, 2, 3, 7, 8, 9}\n",
      "{4, 5, 6, 7, 8, 9}\n"
     ]
    }
   ],
   "source": [
    "s29 = {1,2,3,4,5,6}\n",
    "s30 = {4,5,6,7,8,9}\n",
    "\n",
    "\n",
    "s29.symmetric_difference(s30)\n",
    "\n",
    "s29.symmetric_difference_update(s30)\n",
    "print(s29)\n",
    "print(s30)"
   ]
  },
  {
   "cell_type": "code",
   "execution_count": 56,
   "id": "61ca6b29",
   "metadata": {},
   "outputs": [
    {
     "data": {
      "text/plain": [
       "False"
      ]
     },
     "execution_count": 56,
     "metadata": {},
     "output_type": "execute_result"
    }
   ],
   "source": [
    "s30 = {1,2,3,4}\n",
    "s31 = {3,4,5,6}\n",
    "\n",
    "s30.isdisjoint(s31)        # isdisjoint means in between two sets their should not be any common item."
   ]
  },
  {
   "cell_type": "code",
   "execution_count": 57,
   "id": "fe18d5ff",
   "metadata": {},
   "outputs": [
    {
     "name": "stdout",
     "output_type": "stream",
     "text": [
      "False\n",
      "True\n"
     ]
    }
   ],
   "source": [
    "s32 = {1,2,3,4,5,6}\n",
    "s33 = {4,5,6}\n",
    "\n",
    "print(s32.issubset(s33))\n",
    "print(s33.issubset(s32))"
   ]
  },
  {
   "cell_type": "code",
   "execution_count": 58,
   "id": "6451df6f",
   "metadata": {},
   "outputs": [
    {
     "name": "stdout",
     "output_type": "stream",
     "text": [
      "True\n",
      "False\n"
     ]
    }
   ],
   "source": [
    "s34 = {1,2,3,4,5,6}\n",
    "s35 = {4,5,6}\n",
    "\n",
    "\n",
    "print(s34.issuperset(s35))\n",
    "print(s35.issuperset(s34))"
   ]
  },
  {
   "cell_type": "code",
   "execution_count": 59,
   "id": "03f6b2d3",
   "metadata": {},
   "outputs": [
    {
     "name": "stdout",
     "output_type": "stream",
     "text": [
      "{1, 2, 3, 4, 5, 6, 7, 8, 9}\n",
      "1591926944480\n",
      "{1, 2, 3, 4, 5, 6, 7, 8, 9}\n",
      "1591926946272\n"
     ]
    }
   ],
   "source": [
    "s36 = {1,2,3,4,5,6,7,8,9}\n",
    "s37 = s36.copy()\n",
    "\n",
    "\n",
    "print(s36)\n",
    "print(id(s36))\n",
    "print(s37)\n",
    "print(id(s37))"
   ]
  },
  {
   "cell_type": "code",
   "execution_count": 60,
   "id": "61b5759f",
   "metadata": {},
   "outputs": [
    {
     "data": {
      "text/plain": [
       "frozenset({1, 2, 3, 4})"
      ]
     },
     "execution_count": 60,
     "metadata": {},
     "output_type": "execute_result"
    }
   ],
   "source": [
    "fs1 = frozenset({1,2,3,4})\n",
    "fs1"
   ]
  },
  {
   "cell_type": "code",
   "execution_count": 61,
   "id": "a1074192",
   "metadata": {},
   "outputs": [
    {
     "data": {
      "text/plain": [
       "frozenset({1, 2, 3, 4, 5, 6, 7, 8})"
      ]
     },
     "execution_count": 61,
     "metadata": {},
     "output_type": "execute_result"
    }
   ],
   "source": [
    "fs2 = frozenset({1,2,3,4})\n",
    "fs3 = frozenset({5,6,7,8})\n",
    "fs2|fs3"
   ]
  },
  {
   "cell_type": "code",
   "execution_count": 62,
   "id": "65c602d2",
   "metadata": {},
   "outputs": [
    {
     "data": {
      "text/plain": [
       "frozenset({1, 2, 3, 4, frozenset({5, 6})})"
      ]
     },
     "execution_count": 62,
     "metadata": {},
     "output_type": "execute_result"
    }
   ],
   "source": [
    "fs4 = frozenset([1,2,3,4,frozenset([5,6])])\n",
    "fs4"
   ]
  },
  {
   "cell_type": "code",
   "execution_count": 63,
   "id": "25daf9f9",
   "metadata": {},
   "outputs": [
    {
     "data": {
      "text/plain": [
       "{36, 49, 64, 81, 100}"
      ]
     },
     "execution_count": 63,
     "metadata": {},
     "output_type": "execute_result"
    }
   ],
   "source": [
    "{i**2 for i in range(1,11) if i>5}"
   ]
  },
  {
   "cell_type": "code",
   "execution_count": 64,
   "id": "a2d12fa3",
   "metadata": {},
   "outputs": [
    {
     "name": "stdout",
     "output_type": "stream",
     "text": [
      "{}\n",
      "<class 'dict'>\n"
     ]
    }
   ],
   "source": [
    "d = {}\n",
    "print(d)\n",
    "print(type(d))"
   ]
  },
  {
   "cell_type": "code",
   "execution_count": 65,
   "id": "6e812690",
   "metadata": {},
   "outputs": [
    {
     "name": "stdout",
     "output_type": "stream",
     "text": [
      "{'Name': 'Gourab', 'Gender': 'Male'}\n"
     ]
    }
   ],
   "source": [
    "d1 = {\"Name\": \"Gourab\", \"Gender\": \"Male\"}\n",
    "print(d1)"
   ]
  },
  {
   "cell_type": "code",
   "execution_count": 66,
   "id": "a3918f2a",
   "metadata": {},
   "outputs": [
    {
     "name": "stdout",
     "output_type": "stream",
     "text": [
      "{(1, 2, 3, 4): 1, 'Hello': 'World'}\n"
     ]
    }
   ],
   "source": [
    "d2 = {(1,2,3,4):1, \"Hello\":\"World\"}\n",
    "print(d2)"
   ]
  },
  {
   "cell_type": "code",
   "execution_count": 67,
   "id": "45f17c27",
   "metadata": {},
   "outputs": [
    {
     "name": "stdout",
     "output_type": "stream",
     "text": [
      "1\n"
     ]
    },
    {
     "ename": "KeyError",
     "evalue": "(1, 2, 3)",
     "output_type": "error",
     "traceback": [
      "\u001b[1;31m---------------------------------------------------------------------------\u001b[0m",
      "\u001b[1;31mKeyError\u001b[0m                                  Traceback (most recent call last)",
      "Input \u001b[1;32mIn [67]\u001b[0m, in \u001b[0;36m<cell line: 2>\u001b[1;34m()\u001b[0m\n\u001b[0;32m      1\u001b[0m \u001b[38;5;28mprint\u001b[39m(d2[\u001b[38;5;241m1\u001b[39m,\u001b[38;5;241m2\u001b[39m,\u001b[38;5;241m3\u001b[39m,\u001b[38;5;241m4\u001b[39m])\n\u001b[1;32m----> 2\u001b[0m \u001b[38;5;28mprint\u001b[39m(\u001b[43md2\u001b[49m\u001b[43m[\u001b[49m\u001b[38;5;241;43m1\u001b[39;49m\u001b[43m,\u001b[49m\u001b[38;5;241;43m2\u001b[39;49m\u001b[43m,\u001b[49m\u001b[38;5;241;43m3\u001b[39;49m\u001b[43m]\u001b[49m)\n",
      "\u001b[1;31mKeyError\u001b[0m: (1, 2, 3)"
     ]
    }
   ],
   "source": [
    "print(d2[1,2,3,4])\n",
    "print(d2[1,2,3])"
   ]
  },
  {
   "cell_type": "code",
   "execution_count": 68,
   "id": "4c3c66e7",
   "metadata": {},
   "outputs": [
    {
     "data": {
      "text/plain": [
       "{'name': 'Gourab',\n",
       " 'college': 'GZSCCET',\n",
       " 'university': 'MRSPTU',\n",
       " 'course': 'B.tech',\n",
       " 'Branch': 'Mechenical',\n",
       " 'subjects': {'som': 35, 'tom': 45, 'fm': 54}}"
      ]
     },
     "execution_count": 68,
     "metadata": {},
     "output_type": "execute_result"
    }
   ],
   "source": [
    "d3 ={\n",
    "    \"name\":\"Gourab\",\n",
    "    \"college\":\"GZSCCET\",\n",
    "    \"university\": \"MRSPTU\",\n",
    "    \"course\":\"B.tech\",\n",
    "    \"Branch\": \"Mechenical\",\n",
    "    \"subjects\":{\"som\":35,\n",
    "               \"tom\":45,\n",
    "               \"fm\":54}\n",
    "}\n",
    "\n",
    "d3"
   ]
  },
  {
   "cell_type": "code",
   "execution_count": 69,
   "id": "109d5912",
   "metadata": {},
   "outputs": [
    {
     "data": {
      "text/plain": [
       "{1: 1, 2: 4, 3: 9}"
      ]
     },
     "execution_count": 69,
     "metadata": {},
     "output_type": "execute_result"
    }
   ],
   "source": [
    "d4 = dict([(1,1),(2,4),(3,9)])\n",
    "d4"
   ]
  },
  {
   "cell_type": "code",
   "execution_count": 70,
   "id": "68ae867f",
   "metadata": {},
   "outputs": [
    {
     "data": {
      "text/plain": [
       "{'name': 'Singh Rajput'}"
      ]
     },
     "execution_count": 70,
     "metadata": {},
     "output_type": "execute_result"
    }
   ],
   "source": [
    "d5 = {'name':\"Gourab kumar\",\"name\":\"Singh Rajput\"}\n",
    "d5"
   ]
  },
  {
   "cell_type": "code",
   "execution_count": 71,
   "id": "0d27787e",
   "metadata": {},
   "outputs": [
    {
     "data": {
      "text/plain": [
       "{'name': 'Gourab kumar', (1, 2, 3, 4): 2}"
      ]
     },
     "execution_count": 71,
     "metadata": {},
     "output_type": "execute_result"
    }
   ],
   "source": [
    "#d6 = {'name':\"Gourab kumar\",[1,2,3,4]:2}  #TypeError: unhashable type: 'list'\n",
    "d6 = {'name':\"Gourab kumar\",(1,2,3,4):2}\n",
    "d6"
   ]
  },
  {
   "cell_type": "code",
   "execution_count": 72,
   "id": "89cd9b9c",
   "metadata": {},
   "outputs": [
    {
     "data": {
      "text/plain": [
       "'Gourab kumar'"
      ]
     },
     "execution_count": 72,
     "metadata": {},
     "output_type": "execute_result"
    }
   ],
   "source": [
    "d6['name']"
   ]
  },
  {
   "cell_type": "code",
   "execution_count": 73,
   "id": "d16433b9",
   "metadata": {},
   "outputs": [
    {
     "data": {
      "text/plain": [
       "'B.tech'"
      ]
     },
     "execution_count": 73,
     "metadata": {},
     "output_type": "execute_result"
    }
   ],
   "source": [
    "d3.get('course')"
   ]
  },
  {
   "cell_type": "code",
   "execution_count": 74,
   "id": "c06e0a0e",
   "metadata": {},
   "outputs": [],
   "source": [
    "d6['gender'] = \"male\""
   ]
  },
  {
   "cell_type": "code",
   "execution_count": 75,
   "id": "da00f9fd",
   "metadata": {},
   "outputs": [
    {
     "data": {
      "text/plain": [
       "{'name': 'Gourab kumar', (1, 2, 3, 4): 2, 'gender': 'male'}"
      ]
     },
     "execution_count": 75,
     "metadata": {},
     "output_type": "execute_result"
    }
   ],
   "source": [
    "d6"
   ]
  },
  {
   "cell_type": "code",
   "execution_count": 76,
   "id": "66c0bee9",
   "metadata": {},
   "outputs": [
    {
     "data": {
      "text/plain": [
       "{1: 1, 3: 9}"
      ]
     },
     "execution_count": 76,
     "metadata": {},
     "output_type": "execute_result"
    }
   ],
   "source": [
    "d4.pop(2)\n",
    "d4"
   ]
  },
  {
   "cell_type": "code",
   "execution_count": 77,
   "id": "72ea4efe",
   "metadata": {},
   "outputs": [
    {
     "data": {
      "text/plain": [
       "{1: 1}"
      ]
     },
     "execution_count": 77,
     "metadata": {},
     "output_type": "execute_result"
    }
   ],
   "source": [
    "d4.popitem()\n",
    "d4"
   ]
  },
  {
   "cell_type": "code",
   "execution_count": 78,
   "id": "9d4376db",
   "metadata": {},
   "outputs": [
    {
     "data": {
      "text/plain": [
       "{'name': 'Gourab kumar', 'gender': 'male'}"
      ]
     },
     "execution_count": 78,
     "metadata": {},
     "output_type": "execute_result"
    }
   ],
   "source": [
    "del d6 [1,2,3,4]\n",
    "d6"
   ]
  },
  {
   "cell_type": "code",
   "execution_count": 79,
   "id": "c412ffd9",
   "metadata": {},
   "outputs": [
    {
     "data": {
      "text/plain": [
       "54"
      ]
     },
     "execution_count": 79,
     "metadata": {},
     "output_type": "execute_result"
    }
   ],
   "source": [
    "d3['subjects']['fm']"
   ]
  },
  {
   "cell_type": "code",
   "execution_count": 80,
   "id": "faa48418",
   "metadata": {},
   "outputs": [
    {
     "data": {
      "text/plain": [
       "47"
      ]
     },
     "execution_count": 80,
     "metadata": {},
     "output_type": "execute_result"
    }
   ],
   "source": [
    "d3['subjects']['som'] = 47\n",
    "d3['subjects']['som']"
   ]
  },
  {
   "cell_type": "code",
   "execution_count": 81,
   "id": "3f5a0d6c",
   "metadata": {},
   "outputs": [
    {
     "name": "stdout",
     "output_type": "stream",
     "text": [
      "False\n",
      "True\n"
     ]
    }
   ],
   "source": [
    "print('Gourab' in d3)\n",
    "print('name' in d3)"
   ]
  },
  {
   "cell_type": "code",
   "execution_count": 82,
   "id": "cfbfa2ff",
   "metadata": {},
   "outputs": [
    {
     "name": "stdout",
     "output_type": "stream",
     "text": [
      "name Gourab\n",
      "college GZSCCET\n",
      "university MRSPTU\n",
      "course B.tech\n",
      "Branch Mechenical\n",
      "subjects {'som': 47, 'tom': 45, 'fm': 54}\n"
     ]
    }
   ],
   "source": [
    "for i in d3:\n",
    "    print(i,d3[i])"
   ]
  },
  {
   "cell_type": "code",
   "execution_count": 83,
   "id": "595b6540",
   "metadata": {},
   "outputs": [
    {
     "name": "stdout",
     "output_type": "stream",
     "text": [
      "(1) {'name': 'Gourab', 'college': 'GZSCCET', 'university': 'MRSPTU', 'course': 'B.tech', 'Branch': 'Mechenical', 'subjects': {'som': 47, 'tom': 45, 'fm': 54}}\n",
      "(2) 6\n",
      "(3) ['university', 'subjects', 'name', 'course', 'college', 'Branch']\n",
      "(4)university\n"
     ]
    }
   ],
   "source": [
    "print('(1)',d3)\n",
    "print((f'(2) {len(d3)}'))\n",
    "print(f'(3) {sorted(d3,reverse =  True)}')\n",
    "print(f'(4){max(d3)}')"
   ]
  },
  {
   "cell_type": "code",
   "execution_count": 84,
   "id": "4adcee5d",
   "metadata": {},
   "outputs": [
    {
     "data": {
      "text/plain": [
       "dict_items([('name', 'Gourab'), ('college', 'GZSCCET'), ('university', 'MRSPTU'), ('course', 'B.tech'), ('Branch', 'Mechenical'), ('subjects', {'som': 47, 'tom': 45, 'fm': 54})])"
      ]
     },
     "execution_count": 84,
     "metadata": {},
     "output_type": "execute_result"
    }
   ],
   "source": [
    "d3.items()"
   ]
  },
  {
   "cell_type": "code",
   "execution_count": 85,
   "id": "31d845ab",
   "metadata": {},
   "outputs": [
    {
     "data": {
      "text/plain": [
       "dict_keys(['name', 'college', 'university', 'course', 'Branch', 'subjects'])"
      ]
     },
     "execution_count": 85,
     "metadata": {},
     "output_type": "execute_result"
    }
   ],
   "source": [
    "d3.keys()"
   ]
  },
  {
   "cell_type": "code",
   "execution_count": 86,
   "id": "e09da76a",
   "metadata": {},
   "outputs": [
    {
     "data": {
      "text/plain": [
       "dict_values(['Gourab', 'GZSCCET', 'MRSPTU', 'B.tech', 'Mechenical', {'som': 47, 'tom': 45, 'fm': 54}])"
      ]
     },
     "execution_count": 86,
     "metadata": {},
     "output_type": "execute_result"
    }
   ],
   "source": [
    "d3.values()"
   ]
  },
  {
   "cell_type": "code",
   "execution_count": 87,
   "id": "3d37fe48",
   "metadata": {},
   "outputs": [
    {
     "name": "stdout",
     "output_type": "stream",
     "text": [
      "{1: 2, 2: 3, 3: 4, 4: 16, 5: 25}\n",
      "{4: 16, 5: 25}\n"
     ]
    }
   ],
   "source": [
    "d7 = {1:2,2:3,3:4,4:5}\n",
    "d8 = {4:16,5:25}\n",
    "\n",
    "d7.update(d8)\n",
    "print(d7)\n",
    "print(d8)"
   ]
  },
  {
   "cell_type": "code",
   "execution_count": 88,
   "id": "b44de848",
   "metadata": {},
   "outputs": [
    {
     "data": {
      "text/plain": [
       "{1: 1, 2: 4, 3: 9, 4: 16, 5: 25, 6: 36, 7: 49, 8: 64, 9: 81, 10: 100}"
      ]
     },
     "execution_count": 88,
     "metadata": {},
     "output_type": "execute_result"
    }
   ],
   "source": [
    "{i:i**2 for i in range(1,11)}"
   ]
  },
  {
   "cell_type": "code",
   "execution_count": 89,
   "id": "b13b71c4",
   "metadata": {},
   "outputs": [
    {
     "data": {
      "text/plain": [
       "{'delhi': 620.0, 'mumbai': 1240.0, 'banglore': 1860.0}"
      ]
     },
     "execution_count": 89,
     "metadata": {},
     "output_type": "execute_result"
    }
   ],
   "source": [
    "distances = {'delhi':1000,'mumbai':2000,'banglore':3000}\n",
    "{key:value*0.62 for key, value in distances.items()}"
   ]
  },
  {
   "cell_type": "code",
   "execution_count": 90,
   "id": "1964260a",
   "metadata": {},
   "outputs": [
    {
     "data": {
      "text/plain": [
       "{'Sunday': 33,\n",
       " 'Monday': 36,\n",
       " 'Tuesday': 35,\n",
       " 'Wednesday': 34,\n",
       " 'Thursday': 28,\n",
       " 'Friday': 29,\n",
       " 'Saturday': 30}"
      ]
     },
     "execution_count": 90,
     "metadata": {},
     "output_type": "execute_result"
    }
   ],
   "source": [
    "days = ['Sunday','Monday','Tuesday','Wednesday','Thursday','Friday','Saturday']\n",
    "temp = [33,36,35,34,28,29,30]\n",
    "{i:j for (i,j) in zip(days,temp)}"
   ]
  },
  {
   "cell_type": "code",
   "execution_count": 91,
   "id": "63a0ec96",
   "metadata": {},
   "outputs": [
    {
     "data": {
      "text/plain": [
       "{'phone': 10, 'charger': 32}"
      ]
     },
     "execution_count": 91,
     "metadata": {},
     "output_type": "execute_result"
    }
   ],
   "source": [
    "products  = {'phone':10,'laptop':0,'charger':32,'tablet':0}\n",
    "\n",
    "{key:value for (key,value) in products.items() if value > 0}"
   ]
  },
  {
   "cell_type": "code",
   "execution_count": 92,
   "id": "6ea53877",
   "metadata": {},
   "outputs": [
    {
     "data": {
      "text/plain": [
       "{2: {1: 2, 2: 4, 3: 6, 4: 8, 5: 10, 6: 12, 7: 14, 8: 16, 9: 18, 10: 20},\n",
       " 3: {1: 3, 2: 6, 3: 9, 4: 12, 5: 15, 6: 18, 7: 21, 8: 24, 9: 27, 10: 30},\n",
       " 4: {1: 4, 2: 8, 3: 12, 4: 16, 5: 20, 6: 24, 7: 28, 8: 32, 9: 36, 10: 40}}"
      ]
     },
     "execution_count": 92,
     "metadata": {},
     "output_type": "execute_result"
    }
   ],
   "source": [
    "{i:{j:i*j for j in range (1,11)} for i in range(2,5)}"
   ]
  },
  {
   "cell_type": "code",
   "execution_count": null,
   "id": "fc7eb367",
   "metadata": {},
   "outputs": [],
   "source": []
  }
 ],
 "metadata": {
  "kernelspec": {
   "display_name": "Python 3 (ipykernel)",
   "language": "python",
   "name": "python3"
  },
  "language_info": {
   "codemirror_mode": {
    "name": "ipython",
    "version": 3
   },
   "file_extension": ".py",
   "mimetype": "text/x-python",
   "name": "python",
   "nbconvert_exporter": "python",
   "pygments_lexer": "ipython3",
   "version": "3.9.12"
  }
 },
 "nbformat": 4,
 "nbformat_minor": 5
}
